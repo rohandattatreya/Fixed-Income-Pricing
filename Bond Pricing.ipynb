{
 "cells": [
  {
   "cell_type": "code",
   "execution_count": 1,
   "metadata": {},
   "outputs": [
    {
     "name": "stdout",
     "output_type": "stream",
     "text": [
      "Collecting numpy_financial\n",
      "  Downloading numpy_financial-1.0.0-py3-none-any.whl (14 kB)\n",
      "Requirement already satisfied: numpy>=1.15 in /Library/Frameworks/Python.framework/Versions/3.9/lib/python3.9/site-packages (from numpy_financial) (1.24.2)\n",
      "Installing collected packages: numpy-financial\n",
      "Successfully installed numpy-financial-1.0.0\n",
      "\u001b[33mWARNING: You are using pip version 21.2.3; however, version 23.0.1 is available.\n",
      "You should consider upgrading via the '/Library/Frameworks/Python.framework/Versions/3.9/bin/python3.9 -m pip install --upgrade pip' command.\u001b[0m\n"
     ]
    }
   ],
   "source": [
    "!pip3 install numpy_financial"
   ]
  },
  {
   "cell_type": "code",
   "execution_count": 96,
   "metadata": {},
   "outputs": [
    {
     "name": "stdout",
     "output_type": "stream",
     "text": [
      "\u001b[31mERROR: Could not find a version that satisfies the requirement glob (from versions: none)\u001b[0m\n",
      "\u001b[31mERROR: No matching distribution found for glob\u001b[0m\n",
      "\u001b[33mWARNING: You are using pip version 21.2.3; however, version 23.0.1 is available.\n",
      "You should consider upgrading via the '/Library/Frameworks/Python.framework/Versions/3.9/bin/python3.9 -m pip install --upgrade pip' command.\u001b[0m\n"
     ]
    }
   ],
   "source": [
    "!pip3 install glob"
   ]
  },
  {
   "cell_type": "code",
   "execution_count": 2,
   "metadata": {},
   "outputs": [],
   "source": [
    "import numpy_financial as npf\n",
    "import pandas as pd\n"
   ]
  },
  {
   "cell_type": "code",
   "execution_count": 98,
   "metadata": {},
   "outputs": [],
   "source": [
    "import glob"
   ]
  },
  {
   "cell_type": "code",
   "execution_count": 31,
   "metadata": {},
   "outputs": [],
   "source": [
    "face_value = 100\n",
    "annual_interest_rate = .14\n",
    "annual_interest_amount = annual_interest_rate *100\n",
    "period_years = 5\n",
    "coupon_rate = .141\n",
    "coupon_payment = coupon_rate * face_value\n",
    "\n",
    "# bond_price = (npf.pv(annual_interest_amount,period_years,coupon_payment,face_value))* -1\n",
    "# bond_price*100\n"
   ]
  },
  {
   "attachments": {},
   "cell_type": "markdown",
   "metadata": {},
   "source": [
    "# Yield to matiruity\n",
    "\n",
    "    yield to matutiry = annual interest + ((future value - price)/maturity) "
   ]
  },
  {
   "cell_type": "code",
   "execution_count": 18,
   "metadata": {},
   "outputs": [
    {
     "data": {
      "text/plain": [
       "0.3947942503768992"
      ]
     },
     "execution_count": 18,
     "metadata": {},
     "output_type": "execute_result"
    }
   ],
   "source": [
    "# yield_to_maturity = (annual_interest_rate + ((face_value - bond_price)/period_years))/((face_value + bond_price)/2)\n",
    "# yield_to_maturity\n"
   ]
  },
  {
   "cell_type": "code",
   "execution_count": 62,
   "metadata": {},
   "outputs": [
    {
     "data": {
      "text/plain": [
       "0.3947942503768992"
      ]
     },
     "execution_count": 62,
     "metadata": {},
     "output_type": "execute_result"
    }
   ],
   "source": [
    "def price_ytm(annual_interest_amount, period_years, coupon_rate, par, face_value,coupon_payment):\n",
    "    bond_price = (npf.pv(annual_interest_amount,period_years,coupon_payment,face_value))* -1\n",
    "    # market_price = bond_price\n",
    "    yield_to_maturity = (annual_interest_rate * 100 + (face_value - bond_price) / period_years) / ((face_value + bond_price)/2)\n",
    "   \n",
    "    # print(yield_to_maturity)\n",
    "    return yield_to_maturity\n",
    "\n",
    "yield_to_maturity\n",
    "    \n",
    "    \n"
   ]
  },
  {
   "attachments": {},
   "cell_type": "markdown",
   "metadata": {},
   "source": [
    "# Calculate bond price and risk\n"
   ]
  },
  {
   "cell_type": "code",
   "execution_count": 70,
   "metadata": {},
   "outputs": [],
   "source": [
    "def Bond_price(face_value , annual_interest_rate, period_years):\n",
    "    coupon_payment = coupon_rate * face_value\n",
    "    Bond_price = (npf.pv(annual_interest_rate,period_years,coupon_payment,face_value))*-1\n",
    "    \n",
    "    return Bond_price\n"
   ]
  },
  {
   "cell_type": "code",
   "execution_count": 69,
   "metadata": {},
   "outputs": [
    {
     "data": {
      "text/plain": [
       "<function __main__.Bond_price(face_value, annual_interest_rate, period_years)>"
      ]
     },
     "execution_count": 69,
     "metadata": {},
     "output_type": "execute_result"
    }
   ],
   "source": [
    "Bond_price"
   ]
  },
  {
   "attachments": {},
   "cell_type": "markdown",
   "metadata": {},
   "source": [
    "# PV01"
   ]
  },
  {
   "cell_type": "code",
   "execution_count": 94,
   "metadata": {},
   "outputs": [],
   "source": [
    "def price_value(face_value,annual_interest_rate, period_years, coupon_rate,pv_rate):\n",
    "    coupon_payment = coupon_rate * face_value\n",
    "    price_up = npf.pv(annual_interest_rate + pv_rate/10000 ,period_years,coupon_payment, face_value) * -1\n",
    "    price_down = npf.pv(annual_interest_rate - pv_rate/10000, period_years,coupon_payment, face_value)* -1\n",
    "    price_actual = npf.pv(annual_interest_rate, period_years, coupon_payment, face_value) * -1\n",
    "    print(\"actual bond price is\", round(price_actual,4))\n",
    "    print(\"Bond price when rate is going down is\", round(price_down,4))\n",
    "    print(\"Bond price when rate is going up is\", round(price_up,4))\n"
   ]
  },
  {
   "cell_type": "code",
   "execution_count": 95,
   "metadata": {},
   "outputs": [
    {
     "name": "stdout",
     "output_type": "stream",
     "text": [
      "actual bond price is 102.9137\n",
      "Bond price when rate is going down is 102.9435\n",
      "Bond price when rate is going up is 102.884\n"
     ]
    }
   ],
   "source": [
    "price_value(100,.14,4,.15,1)"
   ]
  },
  {
   "attachments": {},
   "cell_type": "markdown",
   "metadata": {},
   "source": [
    "# Duration\n",
    "\n"
   ]
  },
  {
   "cell_type": "code",
   "execution_count": 103,
   "metadata": {},
   "outputs": [
    {
     "ename": "TypeError",
     "evalue": "'type' object is not subscriptable",
     "output_type": "error",
     "traceback": [
      "\u001b[0;31m---------------------------------------------------------------------------\u001b[0m",
      "\u001b[0;31mTypeError\u001b[0m                                 Traceback (most recent call last)",
      "\u001b[0;32m/var/folders/dz/ghbwzms55k9cvryldwqyspsr0000gn/T/ipykernel_16512/508922897.py\u001b[0m in \u001b[0;36m<module>\u001b[0;34m\u001b[0m\n\u001b[0;32m----> 1\u001b[0;31m \u001b[0mdata\u001b[0m \u001b[0;34m=\u001b[0m \u001b[0mpd\u001b[0m\u001b[0;34m.\u001b[0m\u001b[0mDataFrame\u001b[0m\u001b[0;34m[\u001b[0m\u001b[0;34m'1'\u001b[0m\u001b[0;34m,\u001b[0m\u001b[0;34m'2'\u001b[0m\u001b[0;34m]\u001b[0m\u001b[0;34m\u001b[0m\u001b[0;34m\u001b[0m\u001b[0m\n\u001b[0m",
      "\u001b[0;31mTypeError\u001b[0m: 'type' object is not subscriptable"
     ]
    }
   ],
   "source": [
    "data = pd.DataFrame()\n",
    "\n",
    "def duration():\n",
    "    "
   ]
  },
  {
   "cell_type": "code",
   "execution_count": null,
   "metadata": {},
   "outputs": [],
   "source": []
  }
 ],
 "metadata": {
  "kernelspec": {
   "display_name": "Python 3",
   "language": "python",
   "name": "python3"
  },
  "language_info": {
   "codemirror_mode": {
    "name": "ipython",
    "version": 3
   },
   "file_extension": ".py",
   "mimetype": "text/x-python",
   "name": "python",
   "nbconvert_exporter": "python",
   "pygments_lexer": "ipython3",
   "version": "3.9.7"
  },
  "orig_nbformat": 4
 },
 "nbformat": 4,
 "nbformat_minor": 2
}
