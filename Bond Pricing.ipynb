{
 "cells": [
  {
   "cell_type": "code",
   "execution_count": 1,
   "metadata": {},
   "outputs": [
    {
     "name": "stdout",
     "output_type": "stream",
     "text": [
      "Collecting numpy_financial\n",
      "  Downloading numpy_financial-1.0.0-py3-none-any.whl (14 kB)\n",
      "Requirement already satisfied: numpy>=1.15 in /Library/Frameworks/Python.framework/Versions/3.9/lib/python3.9/site-packages (from numpy_financial) (1.24.2)\n",
      "Installing collected packages: numpy-financial\n",
      "Successfully installed numpy-financial-1.0.0\n",
      "\u001b[33mWARNING: You are using pip version 21.2.3; however, version 23.0.1 is available.\n",
      "You should consider upgrading via the '/Library/Frameworks/Python.framework/Versions/3.9/bin/python3.9 -m pip install --upgrade pip' command.\u001b[0m\n"
     ]
    }
   ],
   "source": [
    "!pip3 install numpy_financial"
   ]
  },
  {
   "cell_type": "code",
   "execution_count": 2,
   "metadata": {},
   "outputs": [],
   "source": [
    "import numpy_financial as npf\n",
    "import pandas as pd\n"
   ]
  },
  {
   "cell_type": "code",
   "execution_count": 31,
   "metadata": {},
   "outputs": [],
   "source": [
    "face_value = 100\n",
    "annual_interest_rate = .14\n",
    "annual_interest_amount = annual_interest_rate *100\n",
    "period_years = 5\n",
    "coupon_rate = .141\n",
    "coupon_payment = coupon_rate * face_value\n",
    "\n",
    "# bond_price = (npf.pv(annual_interest_amount,period_years,coupon_payment,face_value))* -1\n",
    "# bond_price*100\n"
   ]
  },
  {
   "attachments": {},
   "cell_type": "markdown",
   "metadata": {},
   "source": [
    "# Yield to matiruity\n",
    "\n",
    "    yield to matutiry = annual interest + ((future value - price)/maturity) "
   ]
  },
  {
   "cell_type": "code",
   "execution_count": 18,
   "metadata": {},
   "outputs": [
    {
     "data": {
      "text/plain": [
       "0.3947942503768992"
      ]
     },
     "execution_count": 18,
     "metadata": {},
     "output_type": "execute_result"
    }
   ],
   "source": [
    "# yield_to_maturity = (annual_interest_rate + ((face_value - bond_price)/period_years))/((face_value + bond_price)/2)\n",
    "# yield_to_maturity\n"
   ]
  },
  {
   "cell_type": "code",
   "execution_count": 62,
   "metadata": {},
   "outputs": [
    {
     "data": {
      "text/plain": [
       "0.3947942503768992"
      ]
     },
     "execution_count": 62,
     "metadata": {},
     "output_type": "execute_result"
    }
   ],
   "source": [
    "def price_ytm(annual_interest_amount, period_years, coupon_rate, par, face_value,coupon_payment):\n",
    "    bond_price = (npf.pv(annual_interest_amount,period_years,coupon_payment,face_value))* -1\n",
    "    # market_price = bond_price\n",
    "    yield_to_maturity = (annual_interest_rate * 100 + (face_value - bond_price) / period_years) / ((face_value + bond_price)/2)\n",
    "   \n",
    "    # print(yield_to_maturity)\n",
    "    return yield_to_maturity\n",
    "\n",
    "yield_to_maturity\n",
    "    \n",
    "    \n"
   ]
  },
  {
   "attachments": {},
   "cell_type": "markdown",
   "metadata": {},
   "source": [
    "# Calculate bond price and risk\n"
   ]
  },
  {
   "cell_type": "code",
   "execution_count": 70,
   "metadata": {},
   "outputs": [],
   "source": [
    "def Bond_price(face_value , annual_interest_rate, period_years):\n",
    "    coupon_payment = coupon_rate * face_value\n",
    "    Bond_price = (npf.pv(annual_interest_rate,period_years,coupon_payment,face_value))*-1\n",
    "    \n",
    "    return Bond_price\n"
   ]
  },
  {
   "cell_type": "code",
   "execution_count": 69,
   "metadata": {},
   "outputs": [
    {
     "data": {
      "text/plain": [
       "<function __main__.Bond_price(face_value, annual_interest_rate, period_years)>"
      ]
     },
     "execution_count": 69,
     "metadata": {},
     "output_type": "execute_result"
    }
   ],
   "source": [
    "Bond_price"
   ]
  },
  {
   "attachments": {},
   "cell_type": "markdown",
   "metadata": {},
   "source": [
    "# PV01"
   ]
  },
  {
   "cell_type": "code",
   "execution_count": null,
   "metadata": {},
   "outputs": [],
   "source": []
  }
 ],
 "metadata": {
  "kernelspec": {
   "display_name": "Python 3",
   "language": "python",
   "name": "python3"
  },
  "language_info": {
   "codemirror_mode": {
    "name": "ipython",
    "version": 3
   },
   "file_extension": ".py",
   "mimetype": "text/x-python",
   "name": "python",
   "nbconvert_exporter": "python",
   "pygments_lexer": "ipython3",
   "version": "3.9.7"
  },
  "orig_nbformat": 4
 },
 "nbformat": 4,
 "nbformat_minor": 2
}
